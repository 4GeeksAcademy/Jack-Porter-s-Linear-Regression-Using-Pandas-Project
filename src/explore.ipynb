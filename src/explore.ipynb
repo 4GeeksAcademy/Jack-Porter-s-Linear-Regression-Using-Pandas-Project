{
    "cells": [
        {
            "cell_type": "markdown",
            "metadata": {},
            "source": [
                "# Explore here"
            ]
        },
        {
            "cell_type": "code",
            "execution_count": 3,
            "metadata": {},
            "outputs": [
                {
                    "name": "stdout",
                    "output_type": "stream",
                    "text": [
                        "CWD: /workspaces/Jack-Porter-s-Linear-Regression-Using-Pandas-Project/src\n",
                        "Found: []\n"
                    ]
                }
            ],
            "source": [
                "# Standard library imports\n",
                "from pathlib import Path\n",
                "\n",
                "# Third-party imports\n",
                "import numpy as np\n",
                "import pandas as pd\n",
                "import matplotlib.pyplot as plt\n",
                "from sklearn.metrics import root_mean_squared_error, r2_score\n",
                "from sklearn.preprocessing import OrdinalEncoder, PolynomialFeatures, StandardScaler\n",
                "from sklearn.model_selection import train_test_split\n",
                "from sklearn.linear_model import LinearRegression, Lasso, Ridge\n",
                "from sklearn.exceptions import ConvergenceWarning\n",
                "\n",
                "# Local imports\n",
                "from pathlib import Path\n",
                "print(\"CWD:\", Path.cwd())\n",
                "print(\"Found:\", list(Path(\".\").rglob(\"helper_functions.py\")))\n",
                "\n",
                "# Set display options for pandas\n",
                "pd.set_option('display.max_rows', 100)"
            ]
        },
        {
            "cell_type": "code",
            "execution_count": 5,
            "metadata": {},
            "outputs": [],
            "source": [
                "# Load and save the data\n",
                "\n",
                "data_url = 'https://raw.githubusercontent.com/4GeeksAcademy/regularized-linear-regression-project-tutorial/main/demographic_health_data.csv'\n",
                "data_df = pd.read_csv(data_url, sep=',')\n",
                "\n",
                "Path('../data/raw').mkdir(parents=True, exist_ok=True)"
            ]
        },
        {
            "cell_type": "code",
            "execution_count": 6,
            "metadata": {},
            "outputs": [
                {
                    "name": "stdout",
                    "output_type": "stream",
                    "text": [
                        "<class 'pandas.core.frame.DataFrame'>\n",
                        "RangeIndex: 3140 entries, 0 to 3139\n",
                        "Data columns (total 108 columns):\n",
                        " #    Column                                                                         Non-Null Count  Dtype  \n",
                        "---   ------                                                                         --------------  -----  \n",
                        " 0    fips                                                                           3140 non-null   int64  \n",
                        " 1    TOT_POP                                                                        3140 non-null   int64  \n",
                        " 2    0-9                                                                            3140 non-null   int64  \n",
                        " 3    0-9 y/o % of total pop                                                         3140 non-null   float64\n",
                        " 4    19-Oct                                                                         3140 non-null   int64  \n",
                        " 5    10-19 y/o % of total pop                                                       3140 non-null   float64\n",
                        " 6    20-29                                                                          3140 non-null   int64  \n",
                        " 7    20-29 y/o % of total pop                                                       3140 non-null   float64\n",
                        " 8    30-39                                                                          3140 non-null   int64  \n",
                        " 9    30-39 y/o % of total pop                                                       3140 non-null   float64\n",
                        " 10   40-49                                                                          3140 non-null   int64  \n",
                        " 11   40-49 y/o % of total pop                                                       3140 non-null   float64\n",
                        " 12   50-59                                                                          3140 non-null   int64  \n",
                        " 13   50-59 y/o % of total pop                                                       3140 non-null   float64\n",
                        " 14   60-69                                                                          3140 non-null   int64  \n",
                        " 15   60-69 y/o % of total pop                                                       3140 non-null   float64\n",
                        " 16   70-79                                                                          3140 non-null   int64  \n",
                        " 17   70-79 y/o % of total pop                                                       3140 non-null   float64\n",
                        " 18   80+                                                                            3140 non-null   int64  \n",
                        " 19   80+ y/o % of total pop                                                         3140 non-null   float64\n",
                        " 20   White-alone pop                                                                3140 non-null   int64  \n",
                        " 21   % White-alone                                                                  3140 non-null   float64\n",
                        " 22   Black-alone pop                                                                3140 non-null   int64  \n",
                        " 23   % Black-alone                                                                  3140 non-null   float64\n",
                        " 24   Native American/American Indian-alone pop                                      3140 non-null   int64  \n",
                        " 25   % NA/AI-alone                                                                  3140 non-null   float64\n",
                        " 26   Asian-alone pop                                                                3140 non-null   int64  \n",
                        " 27   % Asian-alone                                                                  3140 non-null   float64\n",
                        " 28   Hawaiian/Pacific Islander-alone pop                                            3140 non-null   int64  \n",
                        " 29   % Hawaiian/PI-alone                                                            3140 non-null   float64\n",
                        " 30   Two or more races pop                                                          3140 non-null   int64  \n",
                        " 31   % Two or more races                                                            3140 non-null   float64\n",
                        " 32   POP_ESTIMATE_2018                                                              3140 non-null   int64  \n",
                        " 33   N_POP_CHG_2018                                                                 3140 non-null   int64  \n",
                        " 34   GQ_ESTIMATES_2018                                                              3140 non-null   int64  \n",
                        " 35   R_birth_2018                                                                   3140 non-null   float64\n",
                        " 36   R_death_2018                                                                   3140 non-null   float64\n",
                        " 37   R_NATURAL_INC_2018                                                             3140 non-null   float64\n",
                        " 38   R_INTERNATIONAL_MIG_2018                                                       3140 non-null   float64\n",
                        " 39   R_DOMESTIC_MIG_2018                                                            3140 non-null   float64\n",
                        " 40   R_NET_MIG_2018                                                                 3140 non-null   float64\n",
                        " 41   Less than a high school diploma 2014-18                                        3140 non-null   int64  \n",
                        " 42   High school diploma only 2014-18                                               3140 non-null   int64  \n",
                        " 43   Some college or associate's degree 2014-18                                     3140 non-null   int64  \n",
                        " 44   Bachelor's degree or higher 2014-18                                            3140 non-null   int64  \n",
                        " 45   Percent of adults with less than a high school diploma 2014-18                 3140 non-null   float64\n",
                        " 46   Percent of adults with a high school diploma only 2014-18                      3140 non-null   float64\n",
                        " 47   Percent of adults completing some college or associate's degree 2014-18        3140 non-null   float64\n",
                        " 48   Percent of adults with a bachelor's degree or higher 2014-18                   3140 non-null   float64\n",
                        " 49   POVALL_2018                                                                    3140 non-null   int64  \n",
                        " 50   PCTPOVALL_2018                                                                 3140 non-null   float64\n",
                        " 51   PCTPOV017_2018                                                                 3140 non-null   float64\n",
                        " 52   PCTPOV517_2018                                                                 3140 non-null   float64\n",
                        " 53   MEDHHINC_2018                                                                  3140 non-null   int64  \n",
                        " 54   CI90LBINC_2018                                                                 3140 non-null   int64  \n",
                        " 55   CI90UBINC_2018                                                                 3140 non-null   int64  \n",
                        " 56   Civilian_labor_force_2018                                                      3140 non-null   int64  \n",
                        " 57   Employed_2018                                                                  3140 non-null   int64  \n",
                        " 58   Unemployed_2018                                                                3140 non-null   int64  \n",
                        " 59   Unemployment_rate_2018                                                         3140 non-null   float64\n",
                        " 60   Median_Household_Income_2018                                                   3140 non-null   int64  \n",
                        " 61   Med_HH_Income_Percent_of_State_Total_2018                                      3140 non-null   float64\n",
                        " 62   Active Physicians per 100000 Population 2018 (AAMC)                            3140 non-null   float64\n",
                        " 63   Total Active Patient Care Physicians per 100000 Population 2018 (AAMC)         3140 non-null   float64\n",
                        " 64   Active Primary Care Physicians per 100000 Population 2018 (AAMC)               3140 non-null   float64\n",
                        " 65   Active Patient Care Primary Care Physicians per 100000 Population 2018 (AAMC)  3140 non-null   float64\n",
                        " 66   Active General Surgeons per 100000 Population 2018 (AAMC)                      3140 non-null   float64\n",
                        " 67   Active Patient Care General Surgeons per 100000 Population 2018 (AAMC)         3140 non-null   float64\n",
                        " 68   Total nurse practitioners (2019)                                               3140 non-null   float64\n",
                        " 69   Total physician assistants (2019)                                              3140 non-null   float64\n",
                        " 70   Total Hospitals (2019)                                                         3140 non-null   float64\n",
                        " 71   Internal Medicine Primary Care (2019)                                          3140 non-null   float64\n",
                        " 72   Family Medicine/General Practice Primary Care (2019)                           3140 non-null   float64\n",
                        " 73   Total Specialist Physicians (2019)                                             3140 non-null   float64\n",
                        " 74   ICU Beds_x                                                                     3140 non-null   int64  \n",
                        " 75   Total Population                                                               3140 non-null   int64  \n",
                        " 76   Population Aged 60+                                                            3140 non-null   int64  \n",
                        " 77   Percent of Population Aged 60+                                                 3140 non-null   float64\n",
                        " 78   COUNTY_NAME                                                                    3140 non-null   object \n",
                        " 79   STATE_NAME                                                                     3140 non-null   object \n",
                        " 80   STATE_FIPS                                                                     3140 non-null   int64  \n",
                        " 81   CNTY_FIPS                                                                      3140 non-null   int64  \n",
                        " 82   county_pop2018_18 and older                                                    3140 non-null   int64  \n",
                        " 83   anycondition_prevalence                                                        3140 non-null   float64\n",
                        " 84   anycondition_Lower 95% CI                                                      3140 non-null   float64\n",
                        " 85   anycondition_Upper 95% CI                                                      3140 non-null   float64\n",
                        " 86   anycondition_number                                                            3140 non-null   int64  \n",
                        " 87   Obesity_prevalence                                                             3140 non-null   float64\n",
                        " 88   Obesity_Lower 95% CI                                                           3140 non-null   float64\n",
                        " 89   Obesity_Upper 95% CI                                                           3140 non-null   float64\n",
                        " 90   Obesity_number                                                                 3140 non-null   int64  \n",
                        " 91   Heart disease_prevalence                                                       3140 non-null   float64\n",
                        " 92   Heart disease_Lower 95% CI                                                     3140 non-null   float64\n",
                        " 93   Heart disease_Upper 95% CI                                                     3140 non-null   float64\n",
                        " 94   Heart disease_number                                                           3140 non-null   int64  \n",
                        " 95   COPD_prevalence                                                                3140 non-null   float64\n",
                        " 96   COPD_Lower 95% CI                                                              3140 non-null   float64\n",
                        " 97   COPD_Upper 95% CI                                                              3140 non-null   float64\n",
                        " 98   COPD_number                                                                    3140 non-null   int64  \n",
                        " 99   diabetes_prevalence                                                            3140 non-null   float64\n",
                        " 100  diabetes_Lower 95% CI                                                          3140 non-null   float64\n",
                        " 101  diabetes_Upper 95% CI                                                          3140 non-null   float64\n",
                        " 102  diabetes_number                                                                3140 non-null   int64  \n",
                        " 103  CKD_prevalence                                                                 3140 non-null   float64\n",
                        " 104  CKD_Lower 95% CI                                                               3140 non-null   float64\n",
                        " 105  CKD_Upper 95% CI                                                               3140 non-null   float64\n",
                        " 106  CKD_number                                                                     3140 non-null   int64  \n",
                        " 107  Urban_rural_code                                                               3140 non-null   int64  \n",
                        "dtypes: float64(61), int64(45), object(2)\n",
                        "memory usage: 2.6+ MB\n"
                    ]
                }
            ],
            "source": [
                "# Inspect\n",
                "\n",
                "data_df.head().transpose()\n",
                "data_df.info(verbose=True, show_counts=True)"
            ]
        },
        {
            "cell_type": "code",
            "execution_count": 7,
            "metadata": {},
            "outputs": [],
            "source": [
                "# Initial Feature Selection\n",
                "# Our label is the rate of any condition per 100 people\n",
                "label = data_df['anycondition_number'] / (data_df['TOT_POP'] / 100)"
            ]
        },
        {
            "cell_type": "code",
            "execution_count": 8,
            "metadata": {},
            "outputs": [
                {
                    "name": "stdout",
                    "output_type": "stream",
                    "text": [
                        "<class 'pandas.core.frame.DataFrame'>\n",
                        "RangeIndex: 3140 entries, 0 to 3139\n",
                        "Data columns (total 9 columns):\n",
                        " #   Column                    Non-Null Count  Dtype  \n",
                        "---  ------                    --------------  -----  \n",
                        " 0   0-9 y/o % of total pop    3140 non-null   float64\n",
                        " 1   10-19 y/o % of total pop  3140 non-null   float64\n",
                        " 2   20-29 y/o % of total pop  3140 non-null   float64\n",
                        " 3   30-39 y/o % of total pop  3140 non-null   float64\n",
                        " 4   40-49 y/o % of total pop  3140 non-null   float64\n",
                        " 5   50-59 y/o % of total pop  3140 non-null   float64\n",
                        " 6   60-69 y/o % of total pop  3140 non-null   float64\n",
                        " 7   70-79 y/o % of total pop  3140 non-null   float64\n",
                        " 8   80+ y/o % of total pop    3140 non-null   float64\n",
                        "dtypes: float64(9)\n",
                        "memory usage: 220.9 KB\n"
                    ]
                }
            ],
            "source": [
                "# Age Features\n",
                "# Select age-related features\n",
                "age_features = data_df.columns[2:20]\n",
                "age_df = data_df[age_features].copy()\n",
                "\n",
                "# Remove age count features, keeping only percentages\n",
                "feature_drops = age_df.filter(regex = '^\\d+-\\d+$').columns\n",
                "age_df.drop(columns=feature_drops, inplace=True)\n",
                "age_df.drop(columns=['19-Oct', '80+'], inplace=True)\n",
                "\n",
                "age_df.info()"
            ]
        },
        {
            "cell_type": "code",
            "execution_count": 9,
            "metadata": {},
            "outputs": [
                {
                    "name": "stdout",
                    "output_type": "stream",
                    "text": [
                        "<class 'pandas.core.frame.DataFrame'>\n",
                        "RangeIndex: 3140 entries, 0 to 3139\n",
                        "Data columns (total 6 columns):\n",
                        " #   Column               Non-Null Count  Dtype  \n",
                        "---  ------               --------------  -----  \n",
                        " 0   % White-alone        3140 non-null   float64\n",
                        " 1   % Black-alone        3140 non-null   float64\n",
                        " 2   % NA/AI-alone        3140 non-null   float64\n",
                        " 3   % Asian-alone        3140 non-null   float64\n",
                        " 4   % Hawaiian/PI-alone  3140 non-null   float64\n",
                        " 5   % Two or more races  3140 non-null   float64\n",
                        "dtypes: float64(6)\n",
                        "memory usage: 147.3 KB\n"
                    ]
                }
            ],
            "source": [
                "# Ethnicity Features\n",
                "# Select Ethnicity-related features\n",
                "ethnicity_features = data_df.columns[20:32]\n",
                "ethnicity_df = data_df[ethnicity_features].copy()\n",
                "\n",
                "# Remove count features, keeping only percentages\n",
                "features = ethnicity_df.filter(regex = '^\\%').columns\n",
                "ethnicity_df = ethnicity_df[features]\n",
                "\n",
                "ethnicity_df.info()"
            ]
        },
        {
            "cell_type": "code",
            "execution_count": 10,
            "metadata": {},
            "outputs": [
                {
                    "name": "stdout",
                    "output_type": "stream",
                    "text": [
                        "<class 'pandas.core.frame.DataFrame'>\n",
                        "RangeIndex: 3140 entries, 0 to 3139\n",
                        "Data columns (total 5 columns):\n",
                        " #   Column             Non-Null Count  Dtype  \n",
                        "---  ------             --------------  -----  \n",
                        " 0   TOT_POP            3140 non-null   int64  \n",
                        " 1   POP_ESTIMATE_2018  3140 non-null   int64  \n",
                        " 2   N_POP_CHG_2018     3140 non-null   int64  \n",
                        " 3   R_birth_2018       3140 non-null   float64\n",
                        " 4   R_death_2018       3140 non-null   float64\n",
                        "dtypes: float64(2), int64(3)\n",
                        "memory usage: 122.8 KB\n"
                    ]
                }
            ],
            "source": [
                "# Population Features\n",
                "population_features = ['TOT_POP', 'POP_ESTIMATE_2018', 'N_POP_CHG_2018', 'R_birth_2018', 'R_death_2018']\n",
                "population_df = data_df[population_features].copy()\n",
                "population_df.info()"
            ]
        },
        {
            "cell_type": "code",
            "execution_count": 11,
            "metadata": {},
            "outputs": [
                {
                    "name": "stdout",
                    "output_type": "stream",
                    "text": [
                        "<class 'pandas.core.frame.DataFrame'>\n",
                        "RangeIndex: 3140 entries, 0 to 3139\n",
                        "Data columns (total 4 columns):\n",
                        " #   Column                                                                   Non-Null Count  Dtype  \n",
                        "---  ------                                                                   --------------  -----  \n",
                        " 0   Percent of adults with less than a high school diploma 2014-18           3140 non-null   float64\n",
                        " 1   Percent of adults with a high school diploma only 2014-18                3140 non-null   float64\n",
                        " 2   Percent of adults completing some college or associate's degree 2014-18  3140 non-null   float64\n",
                        " 3   Percent of adults with a bachelor's degree or higher 2014-18             3140 non-null   float64\n",
                        "dtypes: float64(4)\n",
                        "memory usage: 98.3 KB\n"
                    ]
                }
            ],
            "source": [
                "# Educationb Features\n",
                "education_features = data_df.columns[45:49]\n",
                "education_df = data_df[education_features].copy()\n",
                "education_df.info()"
            ]
        },
        {
            "cell_type": "code",
            "execution_count": 12,
            "metadata": {},
            "outputs": [
                {
                    "name": "stdout",
                    "output_type": "stream",
                    "text": [
                        "<class 'pandas.core.frame.DataFrame'>\n",
                        "RangeIndex: 3140 entries, 0 to 3139\n",
                        "Data columns (total 6 columns):\n",
                        " #   Column                                     Non-Null Count  Dtype  \n",
                        "---  ------                                     --------------  -----  \n",
                        " 0   Civilian_labor_force_2018                  3140 non-null   int64  \n",
                        " 1   Employed_2018                              3140 non-null   int64  \n",
                        " 2   Unemployed_2018                            3140 non-null   int64  \n",
                        " 3   Unemployment_rate_2018                     3140 non-null   float64\n",
                        " 4   Median_Household_Income_2018               3140 non-null   int64  \n",
                        " 5   Med_HH_Income_Percent_of_State_Total_2018  3140 non-null   float64\n",
                        "dtypes: float64(2), int64(4)\n",
                        "memory usage: 147.3 KB\n"
                    ]
                }
            ],
            "source": [
                "# Employment Features\n",
                "employment_features = data_df.columns[56:62]\n",
                "employment_df = data_df[employment_features].copy()\n",
                "employment_df.info()"
            ]
        },
        {
            "cell_type": "code",
            "execution_count": 13,
            "metadata": {},
            "outputs": [
                {
                    "name": "stdout",
                    "output_type": "stream",
                    "text": [
                        "<class 'pandas.core.frame.DataFrame'>\n",
                        "RangeIndex: 3140 entries, 0 to 3139\n",
                        "Data columns (total 13 columns):\n",
                        " #   Column                                                                         Non-Null Count  Dtype  \n",
                        "---  ------                                                                         --------------  -----  \n",
                        " 0   Active Physicians per 100000 Population 2018 (AAMC)                            3140 non-null   float64\n",
                        " 1   Total Active Patient Care Physicians per 100000 Population 2018 (AAMC)         3140 non-null   float64\n",
                        " 2   Active Primary Care Physicians per 100000 Population 2018 (AAMC)               3140 non-null   float64\n",
                        " 3   Active Patient Care Primary Care Physicians per 100000 Population 2018 (AAMC)  3140 non-null   float64\n",
                        " 4   Active General Surgeons per 100000 Population 2018 (AAMC)                      3140 non-null   float64\n",
                        " 5   Active Patient Care General Surgeons per 100000 Population 2018 (AAMC)         3140 non-null   float64\n",
                        " 6   Total nurse practitioners (2019)                                               3140 non-null   float64\n",
                        " 7   Total physician assistants (2019)                                              3140 non-null   float64\n",
                        " 8   Total Hospitals (2019)                                                         3140 non-null   float64\n",
                        " 9   Internal Medicine Primary Care (2019)                                          3140 non-null   float64\n",
                        " 10  Family Medicine/General Practice Primary Care (2019)                           3140 non-null   float64\n",
                        " 11  Total Specialist Physicians (2019)                                             3140 non-null   float64\n",
                        " 12  ICU Beds_x                                                                     3140 non-null   int64  \n",
                        "dtypes: float64(12), int64(1)\n",
                        "memory usage: 319.0 KB\n"
                    ]
                }
            ],
            "source": [
                "# Healthcare Access Features\n",
                "healthcare_features = data_df.columns[62:75]\n",
                "healthcare_df = data_df[healthcare_features].copy()\n",
                "healthcare_df.info() "
            ]
        },
        {
            "cell_type": "code",
            "execution_count": 14,
            "metadata": {},
            "outputs": [
                {
                    "name": "stdout",
                    "output_type": "stream",
                    "text": [
                        "<class 'pandas.core.frame.DataFrame'>\n",
                        "RangeIndex: 3140 entries, 0 to 3139\n",
                        "Data columns (total 4 columns):\n",
                        " #   Column       Non-Null Count  Dtype \n",
                        "---  ------       --------------  ----- \n",
                        " 0   COUNTY_NAME  3140 non-null   object\n",
                        " 1   STATE_NAME   3140 non-null   object\n",
                        " 2   STATE_FIPS   3140 non-null   int64 \n",
                        " 3   CNTY_FIPS    3140 non-null   int64 \n",
                        "dtypes: int64(2), object(2)\n",
                        "memory usage: 98.3+ KB\n"
                    ]
                }
            ],
            "source": [
                "# Other Features\n",
                "other_features = data_df.columns[78:82]\n",
                "other_df = data_df[other_features].copy()\n",
                "other_df.info()"
            ]
        },
        {
            "cell_type": "code",
            "execution_count": 16,
            "metadata": {},
            "outputs": [
                {
                    "name": "stdout",
                    "output_type": "stream",
                    "text": [
                        "<class 'pandas.core.frame.DataFrame'>\n",
                        "RangeIndex: 3140 entries, 0 to 3139\n",
                        "Data columns (total 48 columns):\n",
                        " #   Column                        Non-Null Count  Dtype  \n",
                        "---  ------                        --------------  -----  \n",
                        " 0   pct_0-9                       3140 non-null   float64\n",
                        " 1   pct_10-19                     3140 non-null   float64\n",
                        " 2   pct_20-29                     3140 non-null   float64\n",
                        " 3   pct_30-39                     3140 non-null   float64\n",
                        " 4   pct_40-49                     3140 non-null   float64\n",
                        " 5   pct_50-59                     3140 non-null   float64\n",
                        " 6   pct_60-69                     3140 non-null   float64\n",
                        " 7   pct_70-79                     3140 non-null   float64\n",
                        " 8   pct_80+                       3140 non-null   float64\n",
                        " 9   % White-alone                 3140 non-null   float64\n",
                        " 10  % Black-alone                 3140 non-null   float64\n",
                        " 11  % NA/AI-alone                 3140 non-null   float64\n",
                        " 12  % Asian-alone                 3140 non-null   float64\n",
                        " 13  % Hawaiian/PI-alone           3140 non-null   float64\n",
                        " 14  % Two or more races           3140 non-null   float64\n",
                        " 15  total_population              3140 non-null   int64  \n",
                        " 16  pop_estimate_2018             3140 non-null   int64  \n",
                        " 17  pop_change_2018               3140 non-null   int64  \n",
                        " 18  birth_rate_2018               3140 non-null   float64\n",
                        " 19  death_rate_2018               3140 non-null   float64\n",
                        " 20  pct_no_hs_diploma             3140 non-null   float64\n",
                        " 21  pct_hs_only                   3140 non-null   float64\n",
                        " 22  pct_some_college              3140 non-null   float64\n",
                        " 23  pct_bachelor_plus             3140 non-null   float64\n",
                        " 24  civilian_labor_force          3140 non-null   int64  \n",
                        " 25  employed_2018                 3140 non-null   int64  \n",
                        " 26  unemployed_2018               3140 non-null   int64  \n",
                        " 27  unemployment_rate             3140 non-null   float64\n",
                        " 28  median_household_income       3140 non-null   int64  \n",
                        " 29  income_pct_of_state           3140 non-null   float64\n",
                        " 30  active_physicians_per_100k    3140 non-null   float64\n",
                        " 31  total_physicians_per_100k     3140 non-null   float64\n",
                        " 32  active_primary_care_per_100k  3140 non-null   float64\n",
                        " 33  primary_physicians_per_100k   3140 non-null   float64\n",
                        " 34  general_surgeons_per_100k     3140 non-null   float64\n",
                        " 35  surgeons_per_100k             3140 non-null   float64\n",
                        " 36  total_nurse_practitioners     3140 non-null   float64\n",
                        " 37  total_physician_assistants    3140 non-null   float64\n",
                        " 38  total_hospitals               3140 non-null   float64\n",
                        " 39  internal_medicine_physicians  3140 non-null   float64\n",
                        " 40  family_medicine_physicians    3140 non-null   float64\n",
                        " 41  total_specialist_physicians   3140 non-null   float64\n",
                        " 42  ICU Beds_x                    3140 non-null   int64  \n",
                        " 43  COUNTY_NAME                   3140 non-null   object \n",
                        " 44  STATE_NAME                    3140 non-null   object \n",
                        " 45  STATE_FIPS                    3140 non-null   int64  \n",
                        " 46  CNTY_FIPS                     3140 non-null   int64  \n",
                        " 47  morbidity                     3140 non-null   float64\n",
                        "dtypes: float64(36), int64(10), object(2)\n",
                        "memory usage: 1.2+ MB\n"
                    ]
                }
            ],
            "source": [
                "# Recombine Selected Features\n",
                "data_df = pd.concat([age_df,ethnicity_df,population_df,education_df,employment_df,healthcare_df,other_df], axis=1)\n",
                "data_df['morbidity'] = label\n",
                "\n",
                "# Rename features with shorter, more plot-friendly names\n",
                "column_renames = {\n",
                "    # Age features (percentages)\n",
                " \n",
                "    '0-9 y/o % of total pop': 'pct_0-9',\n",
                "    '10-19 y/o % of total pop': 'pct_10-19',\n",
                "    '20-29 y/o % of total pop': 'pct_20-29',\n",
                "    '30-39 y/o % of total pop': 'pct_30-39',\n",
                "    '40-49 y/o % of total pop': 'pct_40-49',\n",
                "    '50-59 y/o % of total pop': 'pct_50-59',\n",
                "    '60-69 y/o % of total pop': 'pct_60-69',\n",
                "    '70-79 y/o % of total pop': 'pct_70-79',\n",
                "    '80+ y/o % of total pop': 'pct_80+',\n",
                "    \n",
                "    # Ethnicity features\n",
                "    '% Not Hispanic or Latino': 'pct_non_hispanic',\n",
                "    '% Hispanic or Latino': 'pct_hispanic',\n",
                "    '% American Indian and Alaska Native Alone': 'pct_native_american',\n",
                "    '% Asian Alone': 'pct_asian',\n",
                "    '% Black or African American Alone': 'pct_black',\n",
                "    '% Native Hawaiian and Other Pacific Islander Alone': 'pct_pacific_islander',\n",
                "    '% Two or More Races': 'pct_multiracial',\n",
                "    '% White Alone': 'pct_white',\n",
                "    \n",
                "    # Population features\n",
                "    'TOT_POP': 'total_population',\n",
                "    'POP_ESTIMATE_2018': 'pop_estimate_2018',\n",
                "    'N_POP_CHG_2018': 'pop_change_2018',\n",
                "    'R_birth_2018': 'birth_rate_2018',\n",
                "    'R_death_2018': 'death_rate_2018',\n",
                "    \n",
                "    # Education features\n",
                "    'Percent of adults with less than a high school diploma 2014-18': 'pct_no_hs_diploma',\n",
                "    'Percent of adults with a high school diploma only 2014-18': 'pct_hs_only',\n",
                "    'Percent of adults completing some college or associate\\'s degree 2014-18': 'pct_some_college',\n",
                "    'Percent of adults with a bachelor\\'s degree or higher 2014-18': 'pct_bachelor_plus',\n",
                "    \n",
                "    # Employment features\n",
                "    'Civilian_labor_force_2018': 'civilian_labor_force',\n",
                "    'Employed_2018': 'employed_2018',\n",
                "    'Unemployed_2018': 'unemployed_2018',\n",
                "    'Unemployment_rate_2018': 'unemployment_rate',\n",
                "    'Median_Household_Income_2018': 'median_household_income',\n",
                "    'Med_HH_Income_Percent_of_State_Total_2018': 'income_pct_of_state',\n",
                "    \n",
                "    # Healthcare access features\n",
                "    'Active Physicians per 100000 Population 2018 (AAMC)': 'active_physicians_per_100k',\n",
                "    'Active Patient Care Primary Care Physicians per 100000 Population 2018 (AAMC)': 'primary_physicians_per_100k',\n",
                "    'Active Primary Care Physicians per 100000 Population 2018 (AAMC)': 'active_primary_care_per_100k',\n",
                "    'Active General Surgeons per 100000 Population 2018 (AAMC)': 'general_surgeons_per_100k',\n",
                "    'Active Patient Care General Surgeons per 100000 Population 2018 (AAMC)': 'surgeons_per_100k',\n",
                "    'Total Active Patient Care Physicians per 100000 Population 2018 (AAMC)': 'total_physicians_per_100k',\n",
                "    'Total nurse practitioners (2019)': 'total_nurse_practitioners',\n",
                "    'Total physician assistants (2019)': 'total_physician_assistants',\n",
                "    'Total Hospitals (2019)': 'total_hospitals',\n",
                "    'Internal Medicine Primary Care (2019)': 'internal_medicine_physicians',\n",
                "    'Family Medicine/General Practice Primary Care (2019)': 'family_medicine_physicians',\n",
                "    'Total Specialist Physicians (2019)': 'total_specialist_physicians',\n",
                "}\n",
                "\n",
                "data_df.rename(columns=column_renames, inplace=True)\n",
                "data_df.info()"
            ]
        },
        {
            "cell_type": "code",
            "execution_count": null,
            "metadata": {},
            "outputs": [],
            "source": []
        }
    ],
    "metadata": {
        "kernelspec": {
            "display_name": "Python 3",
            "language": "python",
            "name": "python3"
        },
        "language_info": {
            "codemirror_mode": {
                "name": "ipython",
                "version": 3
            },
            "file_extension": ".py",
            "mimetype": "text/x-python",
            "name": "python",
            "nbconvert_exporter": "python",
            "pygments_lexer": "ipython3",
            "version": "3.11.4"
        },
        "orig_nbformat": 4
    },
    "nbformat": 4,
    "nbformat_minor": 2
}
